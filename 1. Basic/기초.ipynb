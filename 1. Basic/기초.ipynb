{
 "cells": [
  {
   "cell_type": "markdown",
   "metadata": {},
   "source": [
    "# 복사"
   ]
  },
  {
   "cell_type": "markdown",
   "metadata": {},
   "source": [
    "## 얕은 복사"
   ]
  },
  {
   "cell_type": "markdown",
   "metadata": {},
   "source": [
    "mutable 한 객체를 복사하여 복사한 객체의 변경이 서로에게 영향을 주는 문제가 있다.  \n",
    "\n",
    "이러한 문제를 방지하기 위해 copy를 이용할 수 있다."
   ]
  },
  {
   "cell_type": "code",
   "execution_count": 11,
   "metadata": {},
   "outputs": [
    {
     "name": "stdout",
     "output_type": "stream",
     "text": [
      "[1, 2, 3, 4, 5]\n",
      "[1, 2, 3, 4, 5]\n"
     ]
    }
   ],
   "source": [
    "a = [1,2,3,4,5]\n",
    "b = a[:]    # a 객체를 복사하는 hard code\n",
    "\n",
    "print(a)\n",
    "print(b)"
   ]
  },
  {
   "cell_type": "code",
   "execution_count": 12,
   "metadata": {},
   "outputs": [
    {
     "name": "stdout",
     "output_type": "stream",
     "text": [
      "1299127672896\n",
      "1299127701312\n",
      "\n",
      "1299074777328\n",
      "1299074777328\n"
     ]
    }
   ],
   "source": [
    "print(id(a))\n",
    "print(id(b))\n",
    "\n",
    "print()\n",
    "\n",
    "print(id(a[0]))\n",
    "print(id(b[0]))"
   ]
  },
  {
   "cell_type": "markdown",
   "metadata": {},
   "source": [
    "위 처럼 확인해보면 서로 다른 메모리에 저장되어 있음  \n",
    "\n",
    "하지만 객체의 element를 확인해보면 그렇지 않음을 알 수 있음"
   ]
  },
  {
   "cell_type": "code",
   "execution_count": 13,
   "metadata": {},
   "outputs": [
    {
     "name": "stdout",
     "output_type": "stream",
     "text": [
      "[9, 2, 3, 4, 5]\n",
      "\n",
      "1299074777584\n",
      "1299074777328\n"
     ]
    }
   ],
   "source": [
    "b[0] = 9\n",
    "print(b)\n",
    "\n",
    "print()\n",
    "\n",
    "print(id(b[0]))\n",
    "print(id(a[0]))"
   ]
  },
  {
   "cell_type": "markdown",
   "metadata": {},
   "source": [
    "이 처럼 얕은 복사를 한경우는 서로 객체에서 변경점이 생긴다면; 영향을 끼치지 않고  \n",
    "새로운 메모리에 할당이 되는것을 확인할 수 있다."
   ]
  },
  {
   "cell_type": "code",
   "execution_count": 14,
   "metadata": {},
   "outputs": [
    {
     "name": "stdout",
     "output_type": "stream",
     "text": [
      "1299127699264\n",
      "1299127684544\n",
      "[1, 2, 3, 8, 5]\n",
      "[1, 2, 3, 4, 5]\n",
      "\n",
      "1299074777552\n",
      "1299074777424\n"
     ]
    }
   ],
   "source": [
    "# 파이썬의 제공하는 copy 라이브러리를 통해 얕은 복사를 실행가능\n",
    "import copy\n",
    "\n",
    "a = [1,2,3,4,5]\n",
    "b = copy.copy(a)\n",
    "\n",
    "print(id(a))\n",
    "print(id(b))\n",
    "\n",
    "b[3] = 8\n",
    "print(b)\n",
    "print(a)\n",
    "\n",
    "print()\n",
    "\n",
    "print(id(b[3]))\n",
    "print(id(a[3]))"
   ]
  },
  {
   "cell_type": "markdown",
   "metadata": {},
   "source": [
    "하지만 얕은 복사도 문제가 없는 것은 아니다.  \n",
    "\n",
    "얕은 복사는 mutable 한 객체의 immutable한 객체를 구성하는 경우에는 **유용** 하다.  \n",
    "\n",
    "반대로 mutable 한 객체의 또 다른 mutable한 객체를 구성하는 경우는 문제가 있다.\n"
   ]
  },
  {
   "cell_type": "code",
   "execution_count": 33,
   "metadata": {},
   "outputs": [
    {
     "name": "stdout",
     "output_type": "stream",
     "text": [
      "1299149872576\n",
      "1299149638848\n",
      "\n",
      "1299074777328\n",
      "1299074777328\n",
      "\n",
      "[[7, 3], [2, 4]]\n",
      "[[7, 3], [2, 4]]\n",
      "\n",
      "1299074777520\n",
      "1299074777520\n"
     ]
    }
   ],
   "source": [
    "c = [[1, 3], [2, 4]]\n",
    "d = copy.copy(c) # 얕은 복사\n",
    "\n",
    "# 서로 다른 메모리에 할당이 된 것이 보임. 하지만 그 안은?\n",
    "print(id(c))\n",
    "print(id(d))\n",
    "\n",
    "print()\n",
    "\n",
    "print(id(c[0][0]))\n",
    "print(id(d[0][0]))\n",
    "\n",
    "print()\n",
    "\n",
    "d[0][0] = 7\n",
    "print(d)\n",
    "print(c)\n",
    "\n",
    "print()\n",
    "\n",
    "# 같은 원소 위치더라도, 주소가 바뀐 것을 확인 할 수 있다.\n",
    "print(id(c[0][0]))\n",
    "print(id(d[0][0]))"
   ]
  },
  {
   "cell_type": "markdown",
   "metadata": {},
   "source": [
    "이 처럼 안에 있는 또 다른 mutable 객체에 대해 같은 주소를 공유하는 것을 볼 수 있다.  \n",
    "\n",
    "이 말은 d의 원소가 바뀌면, c의 원소 또한 바뀌는 것을 의미한다.  \n",
    "\n",
    "이것을 방지하기 위해서는 깊은 복사 **deepcopy**를 이용해야 한다."
   ]
  },
  {
   "cell_type": "markdown",
   "metadata": {},
   "source": [
    "## 깊은 복사"
   ]
  },
  {
   "cell_type": "code",
   "execution_count": 34,
   "metadata": {},
   "outputs": [
    {
     "name": "stdout",
     "output_type": "stream",
     "text": [
      "[[1, 2], [3, 4]]\n",
      "[[1, 2], [3, 4]]\n",
      "\n",
      "1299149620288\n",
      "1299126378816\n",
      "\n",
      "1299074777328\n",
      "1299074777328\n",
      "\n",
      "[[5, 2], [3, 4]]\n",
      "[[1, 2], [3, 4]]\n",
      "1299074777328\n",
      "1299074777456\n"
     ]
    }
   ],
   "source": [
    "import copy\n",
    "\n",
    "e = [[1, 2], [3, 4]]\n",
    "f = copy.deepcopy(e)\n",
    "print(e)\n",
    "print(f)\n",
    "print()\n",
    "\n",
    "print(id(e))    # 첫 주소는 얕은 복사처럼 같은 주소를 지니지만,\n",
    "print(id(f))\n",
    "print()\n",
    "\n",
    "print(id(e[0][0]))  # 얕은 복사와는 달리 안에 있는 객체들 마저도 다른 주소를 가지고 있어 공유하지 않음\n",
    "print(id(f[0][0]))\n",
    "print()\n",
    "\n",
    "f[0][0] = 5\n",
    "print(f)\n",
    "print(e)\n",
    "print(id(f[0][0]))\n",
    "print(id(e[0][0]))  "
   ]
  },
  {
   "cell_type": "markdown",
   "metadata": {},
   "source": [
    "### 깊은 복사 함수 implement"
   ]
  },
  {
   "cell_type": "code",
   "execution_count": 40,
   "metadata": {},
   "outputs": [],
   "source": [
    "def deepcopy(a: list()) -> list():\n",
    "    \"\"\"\n",
    "    깊은 복사 구현\n",
    "    input : deepcopy를 하고자 하는 matrix list a\n",
    "    output : copied 결과 matrix list res\n",
    "    \"\"\"\n",
    "    if type(a[0]) == list:  # a 가 행렬이라면?\n",
    "        n = len(a)  # 행\n",
    "        p = len(a[0])   # 열\n",
    "        res = zero_mat(n, p)\n",
    "        for i in range(0, n):\n",
    "            for j in range(0, p):\n",
    "                res[i][j] = a[i][j]\n",
    "        return res\n",
    "    \n",
    "    else:                   # a 가 벡터라면?\n",
    "        n = len(a)\n",
    "        res = []\n",
    "        for i in range(0, n):\n",
    "            res.append(a[i])\n",
    "        return res\n",
    "\n",
    "def zero_mat(n, p):\n",
    "    \"\"\"\n",
    "    영 행렬 생성\n",
    "    input : 생성할 행렬의 행 & 열 크기\n",
    "    output : (n * p) 크기의 영 행렬\n",
    "    \"\"\"\n",
    "    z = []\n",
    "    for i in range(0, n):\n",
    "        row = []\n",
    "        for j in range(0, p):\n",
    "            row.append(0)\n",
    "        z.append(row)\n",
    "    return z"
   ]
  },
  {
   "cell_type": "code",
   "execution_count": 42,
   "metadata": {},
   "outputs": [
    {
     "name": "stdout",
     "output_type": "stream",
     "text": [
      "[[1, 2, 3], [4, 5, 6], [7, 8, 9]]\n",
      "\n",
      "[1, 2, 3]\n"
     ]
    }
   ],
   "source": [
    "A = [[1,2,3], [4,5,6], [7,8,9]] # Matrix\n",
    "B = deepcopy(A)\n",
    "print(B)\n",
    "\n",
    "print()\n",
    "\n",
    "a = [1,2,3]\n",
    "b = deepcopy(a)\n",
    "print(b)"
   ]
  },
  {
   "cell_type": "code",
   "execution_count": null,
   "metadata": {},
   "outputs": [],
   "source": []
  }
 ],
 "metadata": {
  "kernelspec": {
   "display_name": "project",
   "language": "python",
   "name": "python3"
  },
  "language_info": {
   "codemirror_mode": {
    "name": "ipython",
    "version": 3
   },
   "file_extension": ".py",
   "mimetype": "text/x-python",
   "name": "python",
   "nbconvert_exporter": "python",
   "pygments_lexer": "ipython3",
   "version": "3.10.13"
  }
 },
 "nbformat": 4,
 "nbformat_minor": 2
}
