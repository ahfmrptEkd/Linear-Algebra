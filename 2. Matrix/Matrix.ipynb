{
 "cells": [
  {
   "cell_type": "markdown",
   "metadata": {},
   "source": [
    "# 행렬"
   ]
  },
  {
   "cell_type": "markdown",
   "metadata": {},
   "source": [
    "행렬은 사각형 형태로 숫자를 나열하는 것을 의미.  \n",
    "\n",
    "![matrix](../src/2/matrix1.png)\n",
    "\n",
    "i : 행번호  \n",
    "j : 열번호\n",
    "\n"
   ]
  },
  {
   "cell_type": "markdown",
   "metadata": {},
   "source": [
    "<br>"
   ]
  },
  {
   "cell_type": "markdown",
   "metadata": {},
   "source": [
    "## 행렬의 덧셈과 뺄셈"
   ]
  },
  {
   "cell_type": "markdown",
   "metadata": {},
   "source": [
    "어떤 벡터가 다른 벡터와 덧셈이 가능하듯이, 행렬간에도 덧셈, 뺄셈도 가능하다.  \n",
    "\n",
    "단, 각 행렬의 동일 위치에 대응하는 원소끼리 연산이 가능 그리고 이 때, 연산하는 원소의 행번호와 열번호가 동일해야 함.\n",
    "\n",
    "![2](../src/2/matrix2.png)"
   ]
  },
  {
   "cell_type": "markdown",
   "metadata": {},
   "source": [
    "<br>"
   ]
  },
  {
   "cell_type": "markdown",
   "metadata": {},
   "source": [
    "## 행렬의 스칼라 곱\n",
    "\n",
    "Matrix scalar multiplicaton 은 스칼라와 행렬을 곱하는 '스칼라 X 행렬'을 의미한다.  \n",
    "  \n",
    "\n",
    "예를 들어 기존 행렬에 스칼라 2를 곱하는 것은 각 행벡터 나 열벡터가 2배로 늘어난다는 것을 의미한다.\n",
    "\n",
    "![3](../src/2/matrix3.png)\n",
    "\n"
   ]
  },
  {
   "cell_type": "markdown",
   "metadata": {},
   "source": [
    "<br>"
   ]
  },
  {
   "cell_type": "markdown",
   "metadata": {},
   "source": [
    "## 행렬의 원소 곱\n",
    "\n",
    "Matrix element-wise multiplication 은 크기가 동일한 두 행렬에서 동일한 위치의 원소들끼리 서로 곱하는 것을 의미.  \n",
    "\n",
    "단, 행렬의 원소 곱이 가능하려면 두 행령의 크기가 동일해야 함.\n",
    "\n",
    "\n",
    "![4](../src/2/matrix4.png)"
   ]
  },
  {
   "cell_type": "markdown",
   "metadata": {},
   "source": [
    "<br>"
   ]
  },
  {
   "cell_type": "markdown",
   "metadata": {},
   "source": [
    "## 행렬 곱\n",
    "\n",
    "Matrix multiplication 은 행렬 끼리 곱하는 것을 의미.  \n",
    "\n",
    "행렬 곱은 일반적인 곱셈과 달리 전제 조건이 만족되어야 가능.  \n",
    "\n",
    "![5](../src/2/matrix5.png)  \n",
    "\n",
    "![6](../src/2/matrix6.png)  "
   ]
  },
  {
   "cell_type": "markdown",
   "metadata": {},
   "source": [
    "### 행렬 연산의 특징\n",
    "\n",
    "![8](../src/2/matrix8.png) \n",
    "\n",
    "![9](../src/2/matrix9.png)\n",
    "\n",
    "<br>\n",
    "\n",
    "1. A+B = B+A\n",
    "2. A+(B+C) = (A+B)+C\n",
    "3. A(BC) = (AB)C\n",
    "4. A(B+C) = AB+AC\n",
    "5. (B+C)A = BA+CA\n",
    "6. A(B-C) = AB-AC\n",
    "7. (B-C)A = BA-BC\n",
    "8. (B-C)A = BA-BC\n",
    "9. a(B+C) = aB+aC\n",
    "10. a(B-C) = aB-aC\n",
    "11. (a+b)C = aC+bC\n",
    "12. (a-b)C = aC-bC\n",
    "13. a(BC) = (aB)C = B(aC)"
   ]
  },
  {
   "cell_type": "markdown",
   "metadata": {},
   "source": [
    "<br>"
   ]
  },
  {
   "cell_type": "markdown",
   "metadata": {},
   "source": [
    "## 행렬 대각합\n",
    "\n",
    "행렬 A가 정사각 행렬일 때, 행렬 A의 대각합(trace) 대각 원소를 모두 더한 값을 의미합니다.  \n",
    "\n",
    "tr(A)로 표기합니다.\n",
    "\n",
    "![6](../src/2/matrix7.png)"
   ]
  },
  {
   "cell_type": "markdown",
   "metadata": {},
   "source": [
    "<br><br>"
   ]
  },
  {
   "cell_type": "markdown",
   "metadata": {},
   "source": [
    "# 파이썬"
   ]
  },
  {
   "cell_type": "code",
   "execution_count": 6,
   "metadata": {},
   "outputs": [
    {
     "name": "stdout",
     "output_type": "stream",
     "text": [
      "[[3, 11], [7, 3], [8, 6]]\n"
     ]
    },
    {
     "data": {
      "text/plain": [
       "[[3, 11], [7, 3], [8, 6]]"
      ]
     },
     "execution_count": 6,
     "metadata": {},
     "output_type": "execute_result"
    }
   ],
   "source": [
    "# 행렬의 덧셈\n",
    "\n",
    "A = [[2, 7], [3, 4], [6, 1]]\n",
    "B = [[1, 4], [4, -1], [2, 5]]\n",
    "\n",
    "n = len(A)\n",
    "p = len(A[0])\n",
    "\n",
    "res = []\n",
    "for i in range(0, n):\n",
    "    row = []\n",
    "    for j in range(0, p):\n",
    "        val = A[i][j] + B[i][j]\n",
    "        row.append(val)\n",
    "\n",
    "    res.append(row)\n",
    "\n",
    "print(res)\n",
    "\n",
    "import m_func as f\n",
    "\n",
    "# 함수\n",
    "f.add(A,B)"
   ]
  },
  {
   "cell_type": "code",
   "execution_count": 15,
   "metadata": {},
   "outputs": [
    {
     "name": "stdout",
     "output_type": "stream",
     "text": [
      "[[1, 3], [-1, 5], [4, -4]]\n"
     ]
    },
    {
     "data": {
      "text/plain": [
       "[[1, 3], [-1, 5], [4, -4]]"
      ]
     },
     "execution_count": 15,
     "metadata": {},
     "output_type": "execute_result"
    }
   ],
   "source": [
    "# 행렬의 뺄셈\n",
    "A = [[2, 7], [3, 4], [6, 1]]\n",
    "B = [[1, 4], [4, -1], [2, 5]]\n",
    "\n",
    "n = len(A)\n",
    "p = len(A[0])\n",
    "\n",
    "res = []\n",
    "for i in range(0, n):\n",
    "    row = []\n",
    "    for j in range(0, p):\n",
    "        val = A[i][j] - B[i][j]\n",
    "        row.append(val)\n",
    "\n",
    "    res.append(row)\n",
    "\n",
    "print(res)\n",
    "\n",
    "# 함수\n",
    "import importlib\n",
    "import m_func as f\n",
    "\n",
    "# m_func 모듈 다시 불러오기\n",
    "importlib.reload(f)\n",
    "f.subtract(A,B)"
   ]
  },
  {
   "cell_type": "code",
   "execution_count": 19,
   "metadata": {},
   "outputs": [
    {
     "name": "stdout",
     "output_type": "stream",
     "text": [
      "[[4, 14], [6, 8], [12, 2]]\n"
     ]
    },
    {
     "data": {
      "text/plain": [
       "[[4, 14], [6, 8], [12, 2]]"
      ]
     },
     "execution_count": 19,
     "metadata": {},
     "output_type": "execute_result"
    }
   ],
   "source": [
    "# 행렬의 스칼라 곱\n",
    "\n",
    "A = [[2, 7], [3, 4], [6, 1]]\n",
    "b = 2\n",
    "\n",
    "n = len(A)\n",
    "p = len(A[0])\n",
    "\n",
    "res = []\n",
    "for i in range(0, n):\n",
    "    row = []\n",
    "    for j in range(0, p):\n",
    "        val = b * A[i][j]\n",
    "        row.append(val)\n",
    "\n",
    "    res.append(row)\n",
    "\n",
    "print(res)\n",
    "\n",
    "f.scalar_mul(b, A)"
   ]
  },
  {
   "cell_type": "code",
   "execution_count": 23,
   "metadata": {},
   "outputs": [
    {
     "name": "stdout",
     "output_type": "stream",
     "text": [
      "[[5, -5], [6, 8], [8, 7]]\n"
     ]
    },
    {
     "data": {
      "text/plain": [
       "[[5, -5], [6, 8], [8, 7]]"
      ]
     },
     "execution_count": 23,
     "metadata": {},
     "output_type": "execute_result"
    }
   ],
   "source": [
    "# 행렬의 원소 곱\n",
    "A = [[1, 5], [6, 4], [2, 7]]\n",
    "B = [[5, -1], [1, 2], [4, 1]]\n",
    "\n",
    "n = len(A)\n",
    "p = len(A[0])\n",
    "\n",
    "res = []\n",
    "for i in range(0, n):\n",
    "    row = []\n",
    "    for j in range(0, p):\n",
    "        val = A[i][j] * B[i][j]\n",
    "        row.append(val)\n",
    "    res.append(row)\n",
    "\n",
    "print(res)\n",
    "importlib.reload(f)\n",
    "f.ele_product(A, B)"
   ]
  },
  {
   "cell_type": "code",
   "execution_count": 26,
   "metadata": {},
   "outputs": [
    {
     "name": "stdout",
     "output_type": "stream",
     "text": [
      "[[-1, 8, 3], [5, -1, 11], [13, -11, 23]]\n"
     ]
    },
    {
     "data": {
      "text/plain": [
       "[[-1, 8, 3], [5, -1, 11], [13, -11, 23]]"
      ]
     },
     "execution_count": 26,
     "metadata": {},
     "output_type": "execute_result"
    }
   ],
   "source": [
    "# 행렬 곱\n",
    "A = [[2, 7], [3, 4], [5, 2]]\n",
    "B = [[3, -3, 5], [-1, 2, -1]]\n",
    "\n",
    "n = len(A)\n",
    "p1 = len(A[0])\n",
    "p2 = len(B[0])\n",
    "\n",
    "res = []\n",
    "\n",
    "for i in range(0, n):\n",
    "    row = []\n",
    "    for j in range(0, p2):\n",
    "        val = 0\n",
    "        for k in range(0, p1):\n",
    "            val += A[i][k] * B[k][j]\n",
    "        row.append(val)\n",
    "    res.append(row)\n",
    "print(res)\n",
    "\n",
    "importlib.reload(f)\n",
    "f.matmul(A, B)"
   ]
  },
  {
   "cell_type": "markdown",
   "metadata": {},
   "source": [
    "# Numpy"
   ]
  },
  {
   "cell_type": "code",
   "execution_count": 35,
   "metadata": {},
   "outputs": [
    {
     "name": "stdout",
     "output_type": "stream",
     "text": [
      "[[ 3 11]\n",
      " [ 7  3]\n",
      " [ 8  6]]\n",
      "\n",
      "[[ 1  3]\n",
      " [-1  5]\n",
      " [ 4 -4]]\n",
      "\n",
      "[[ 4 14]\n",
      " [ 6  8]\n",
      " [12  2]]\n",
      "\n",
      "[[  5 -25]\n",
      " [  6   8]\n",
      " [  8   7]]\n",
      "\n",
      "[[ 15  15   6]\n",
      " [ 38 -14  10]\n",
      " [ 24  18   9]]\n",
      "\n"
     ]
    }
   ],
   "source": [
    "import numpy as np\n",
    "\n",
    "#행렬의 덧셈\n",
    "A = np.array([[2, 7], [3, 4], [6, 1]])\n",
    "B = np.array([[1, 4], [4, -1], [2, 5]])\n",
    "C = A + B\n",
    "print(C)\n",
    "print()\n",
    "\n",
    "# 뺄셈\n",
    "C = A - B\n",
    "print(C)\n",
    "print()\n",
    "\n",
    "# 스칼라 곱\n",
    "b = 2\n",
    "C = b*A\n",
    "print(C)\n",
    "print()\n",
    "\n",
    "\n",
    "# 행렬의 원소 곱\n",
    "A = np.array([[1, 5], [6, 4], [2, 7]])\n",
    "B = np.array([[5, -5], [1, 2], [4, 1]])\n",
    "C = np.multiply(A,B)\n",
    "print(C)\n",
    "print()\n",
    "\n",
    "\n",
    "# 행렬 곱\n",
    "A = np.array([[1, 5], [6, 4], [2, 7]])\n",
    "B = np.array([[5, -5, 1], [2, 4, 1]])\n",
    "C = np.matmul(A,B)\n",
    "print(C)\n",
    "print()"
   ]
  },
  {
   "cell_type": "code",
   "execution_count": null,
   "metadata": {},
   "outputs": [],
   "source": []
  }
 ],
 "metadata": {
  "kernelspec": {
   "display_name": "project",
   "language": "python",
   "name": "python3"
  },
  "language_info": {
   "codemirror_mode": {
    "name": "ipython",
    "version": 3
   },
   "file_extension": ".py",
   "mimetype": "text/x-python",
   "name": "python",
   "nbconvert_exporter": "python",
   "pygments_lexer": "ipython3",
   "version": "3.10.13"
  }
 },
 "nbformat": 4,
 "nbformat_minor": 2
}
