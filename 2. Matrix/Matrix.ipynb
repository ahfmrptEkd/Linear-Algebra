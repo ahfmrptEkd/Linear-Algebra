{
 "cells": [
  {
   "cell_type": "markdown",
   "metadata": {},
   "source": [
    "# 행렬"
   ]
  },
  {
   "cell_type": "markdown",
   "metadata": {},
   "source": [
    "행렬은 사각형 형태로 숫자를 나열하는 것을 의미.  \n",
    "\n",
    "![matrix](../src/matrix1.png)\n",
    "\n",
    "i : 행번호  \n",
    "j : 열번호\n",
    "\n"
   ]
  },
  {
   "cell_type": "markdown",
   "metadata": {},
   "source": [
    "<br>"
   ]
  },
  {
   "cell_type": "markdown",
   "metadata": {},
   "source": [
    "## 행렬의 덧셈과 뺄셈"
   ]
  },
  {
   "cell_type": "markdown",
   "metadata": {},
   "source": [
    "어떤 벡터가 다른 벡터와 덧셈이 가능하듯이, 행렬간에도 덧셈, 뺄셈도 가능하다.\n",
    "\n",
    "![](../src/2/matrix2.png)"
   ]
  },
  {
   "cell_type": "code",
   "execution_count": null,
   "metadata": {},
   "outputs": [],
   "source": []
  }
 ],
 "metadata": {
  "language_info": {
   "name": "python"
  }
 },
 "nbformat": 4,
 "nbformat_minor": 2
}
