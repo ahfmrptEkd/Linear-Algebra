{
 "cells": [
  {
   "cell_type": "markdown",
   "metadata": {},
   "source": [
    "# Vector"
   ]
  },
  {
   "cell_type": "markdown",
   "metadata": {},
   "source": [
    "벡터 = 스칼라의 집합 & 행렬을 구성하는 기본 단위.  \n",
    "스칼라와는 달리 크기(Magnitude) 와 방향(Direction) 들을 나타내는 개념입니다.  \n",
    "**굵은 소문자**를 표기에 사용\n",
    "\n",
    "![vector](..//src/2/vector.png)  \n",
    "\n",
    "행 벡터와 열 벡터로 나뉘며, 특별한 언급이 없으면 열 벡터를 의미한다."
   ]
  },
  {
   "cell_type": "markdown",
   "metadata": {},
   "source": [
    "크기와 방향이 없는 벡터는 '0'벡터(zero vector) 로 부른다.  \n",
    "벡터에서 '-'부호를 붙인다는 것은 크기는 그대로 **방향만 반대**를 의미한다."
   ]
  },
  {
   "cell_type": "markdown",
   "metadata": {},
   "source": [
    "<br>"
   ]
  },
  {
   "cell_type": "markdown",
   "metadata": {},
   "source": [
    "## 벡터의 덧셈과 뺄셈"
   ]
  },
  {
   "cell_type": "markdown",
   "metadata": {},
   "source": [
    "![vector1](../src/2/vector1.png)\n",
    "\n",
    "a + b = b + a  \n",
    "두 벡터를 이용하면 평행사변형이 만들어진다는 사실을 알 수 있으며, 벡터의 덧셈 결과는 벡터의 시작 지점으로부터 평행사변형의 대각선을 구성하는 벡터임  \n",
    "\n",
    "<br>\n",
    "\n",
    "![vector2](../src/2/vector2.png)\n",
    "\n",
    "a - b = a + (-b)\n",
    "\n",
    "a = b + (a - b)의 합집합으로 볼 수 도 있다.\n"
   ]
  },
  {
   "cell_type": "markdown",
   "metadata": {},
   "source": [
    "### 파이썬"
   ]
  },
  {
   "cell_type": "code",
   "execution_count": 2,
   "metadata": {},
   "outputs": [
    {
     "name": "stdout",
     "output_type": "stream",
     "text": [
      "[5, 7, 9]\n"
     ]
    }
   ],
   "source": [
    "# 덧셈\n",
    "u = [1, 2, 3]\n",
    "v = [4, 5, 6]\n",
    "\n",
    "n = len(u)\n",
    "w = []\n",
    "\n",
    "for i in range(0, n):\n",
    "    val = u[i] + v[i]\n",
    "    w.append(val)\n",
    "print(w)"
   ]
  },
  {
   "cell_type": "code",
   "execution_count": 3,
   "metadata": {},
   "outputs": [],
   "source": [
    "# 덧셈 함수 구현\n",
    "def v_add(u, v):\n",
    "    \"\"\"\n",
    "    벡터의 덧셈\n",
    "    input: 더하고자 하는 벡터 u, v\n",
    "    output: 덧셈 결과 벡터 w\n",
    "    \"\"\"\n",
    "    n = len(u)\n",
    "    w = []\n",
    "\n",
    "    for i in range(0, n):\n",
    "        val = u[i] + v[i]\n",
    "        w.append(val)\n",
    "    \n",
    "    return w"
   ]
  },
  {
   "cell_type": "code",
   "execution_count": 4,
   "metadata": {},
   "outputs": [
    {
     "data": {
      "text/plain": [
       "[19, 19, 19]"
      ]
     },
     "execution_count": 4,
     "metadata": {},
     "output_type": "execute_result"
    }
   ],
   "source": [
    "u = [7, 8, 9]\n",
    "v = [12, 11, 10]\n",
    "\n",
    "v_add(u, v)"
   ]
  },
  {
   "cell_type": "code",
   "execution_count": 5,
   "metadata": {},
   "outputs": [
    {
     "name": "stdout",
     "output_type": "stream",
     "text": [
      "[-3, -3, -3]\n"
     ]
    }
   ],
   "source": [
    "# 뺄셈\n",
    "u = [1, 2, 3]\n",
    "v = [4, 5, 6]\n",
    "\n",
    "n = len(u)\n",
    "w = []\n",
    "\n",
    "for i in range(0, n):\n",
    "    val = u[i] - v[i]\n",
    "    w.append(val)\n",
    "print(w)"
   ]
  },
  {
   "cell_type": "code",
   "execution_count": 6,
   "metadata": {},
   "outputs": [],
   "source": [
    "# 뺄셈 함수 구현\n",
    "def v_subtract(u, v):\n",
    "    \"\"\"\n",
    "    벡터의 뺄셈\n",
    "    input: 빼고자 하는 벡터 u, v\n",
    "    output: 뺄셈 결과 벡터 w\n",
    "    \"\"\"\n",
    "    n = len(u)\n",
    "    w = []\n",
    "\n",
    "    for i in range(0, n):\n",
    "        val = u[i] - v[i]\n",
    "        w.append(val)\n",
    "    \n",
    "    return w"
   ]
  },
  {
   "cell_type": "code",
   "execution_count": 7,
   "metadata": {},
   "outputs": [
    {
     "data": {
      "text/plain": [
       "[-5, -3, -1]"
      ]
     },
     "execution_count": 7,
     "metadata": {},
     "output_type": "execute_result"
    }
   ],
   "source": [
    "u = [7, 8, 9]\n",
    "v = [12, 11, 10]\n",
    "\n",
    "v_subtract(u, v)"
   ]
  },
  {
   "cell_type": "markdown",
   "metadata": {},
   "source": [
    "<br><br>"
   ]
  },
  {
   "cell_type": "markdown",
   "metadata": {},
   "source": [
    "### numpy"
   ]
  },
  {
   "cell_type": "code",
   "execution_count": 18,
   "metadata": {},
   "outputs": [
    {
     "name": "stdout",
     "output_type": "stream",
     "text": [
      "[5 7 9]\n"
     ]
    }
   ],
   "source": [
    "# 덧셈\n",
    "import numpy as np\n",
    "\n",
    "u = np.array([1,2,3])\n",
    "v = np.array([4,5,6])\n",
    "w = u + v\n",
    "print(w)"
   ]
  },
  {
   "cell_type": "code",
   "execution_count": 19,
   "metadata": {},
   "outputs": [
    {
     "name": "stdout",
     "output_type": "stream",
     "text": [
      "[-3 -3 -3]\n"
     ]
    }
   ],
   "source": [
    "# 뺄셈\n",
    "\n",
    "u = np.array([1,2,3])\n",
    "v = np.array([4,5,6])\n",
    "w = u - v\n",
    "print(w)"
   ]
  },
  {
   "cell_type": "markdown",
   "metadata": {},
   "source": [
    "<br>"
   ]
  },
  {
   "cell_type": "markdown",
   "metadata": {},
   "source": [
    "## 벡터의 곱셈과 뺄셈"
   ]
  },
  {
   "cell_type": "markdown",
   "metadata": {},
   "source": [
    "벡터에 2를 곱한다는 것은 2배 만큼 크기가 커지는것을 의미.  \n",
    "하지만 무조건 크키만 바뀔 뿐만 아니라, 방향도 바뀔 수 있다.  \n",
    "\n",
    "<br>\n",
    "\n",
    "- 벡터 기본 연산의 성질\n",
    "\n",
    "> 벡터 u,v,w 그리고 스칼라 a,b 존재 할때, 다음과 같은 성질이 성립할 수 있다.\n",
    "\n",
    "1. u + v = v + u\n",
    "2. (u + v) + w = u + (v + w)\n",
    "3. u + 0 = 0 + u = u\n",
    "4. u + (-u) = 0\n",
    "5. a(bu) = (ab)u\n",
    "6. a(u + v) = au + av\n",
    "7. (a + b)u = au + bu"
   ]
  },
  {
   "cell_type": "markdown",
   "metadata": {},
   "source": [
    "### 파이썬"
   ]
  },
  {
   "cell_type": "code",
   "execution_count": 8,
   "metadata": {},
   "outputs": [
    {
     "name": "stdout",
     "output_type": "stream",
     "text": [
      "[6, 12, 6]\n"
     ]
    }
   ],
   "source": [
    "# 곱셈\n",
    "u = [2, 4, 2]\n",
    "a = 3\n",
    "\n",
    "n = len(u)\n",
    "w = []\n",
    "\n",
    "for i in range(0, n):\n",
    "    val = a * u[i]\n",
    "    w.append(val)\n",
    "\n",
    "print(w)"
   ]
  },
  {
   "cell_type": "code",
   "execution_count": 9,
   "metadata": {},
   "outputs": [],
   "source": [
    "# 곱셈 함수\n",
    "def scalar_v_mul(a, u):\n",
    "    \"\"\"\n",
    "    벡터의 스칼라 곱\n",
    "    input: scalar a, vector list u\n",
    "    output: 곱 결과 w\n",
    "    \"\"\"\n",
    "    n = len(u)\n",
    "    w = []\n",
    "\n",
    "    for i in range(0, n):\n",
    "        val = a * u[i]\n",
    "        w.append(val)\n",
    "    \n",
    "    return w"
   ]
  },
  {
   "cell_type": "code",
   "execution_count": 10,
   "metadata": {},
   "outputs": [
    {
     "data": {
      "text/plain": [
       "[6, 12, 9]"
      ]
     },
     "execution_count": 10,
     "metadata": {},
     "output_type": "execute_result"
    }
   ],
   "source": [
    "u = [2, 4, 3]\n",
    "a = 3\n",
    "\n",
    "scalar_v_mul(a, u)"
   ]
  },
  {
   "cell_type": "code",
   "execution_count": 11,
   "metadata": {},
   "outputs": [
    {
     "name": "stdout",
     "output_type": "stream",
     "text": [
      "[7, 6, 8]\n"
     ]
    }
   ],
   "source": [
    "## 벡터의 원소 곱\n",
    "u = [1, 2, 4]\n",
    "v = [7, 3, 2]\n",
    "\n",
    "n = len(u)\n",
    "w = []\n",
    "\n",
    "for i in range(0, n):\n",
    "    val = u[i] * v[i]\n",
    "    w.append(val)\n",
    "\n",
    "print(w)"
   ]
  },
  {
   "cell_type": "code",
   "execution_count": 12,
   "metadata": {},
   "outputs": [],
   "source": [
    "# 벡터 원소 곱 함수\n",
    "def v_mul(u, v):\n",
    "    \"\"\"\n",
    "    벡터의 원소 곱\n",
    "    input: 곱하는 두 원수 u, v\n",
    "    output: 곱한 벡터 w\n",
    "    \"\"\"\n",
    "    n = len(u)\n",
    "    w = []\n",
    "\n",
    "    for i in range(0, n):\n",
    "        val = u[i] * v[i]\n",
    "        w.append(val)\n",
    "    \n",
    "    return w"
   ]
  },
  {
   "cell_type": "code",
   "execution_count": 13,
   "metadata": {},
   "outputs": [
    {
     "name": "stdout",
     "output_type": "stream",
     "text": [
      "[3.0, 2.5, -3.0]\n"
     ]
    }
   ],
   "source": [
    "# 나눗셈\n",
    "u = [6, 5, 9]\n",
    "v = [2, 2, -3]\n",
    "\n",
    "n = len(u)\n",
    "w = []\n",
    "\n",
    "for i in range(0, n):\n",
    "    val = u[i] / v[i]\n",
    "    w.append(val)\n",
    "\n",
    "print(w)"
   ]
  },
  {
   "cell_type": "code",
   "execution_count": 14,
   "metadata": {},
   "outputs": [],
   "source": [
    "# 나눗셈 함수\n",
    "def v_div(u, v):\n",
    "    \"\"\"\n",
    "    벡터 element-wise 나눗셈\n",
    "    input: 나누고자 하는 벡터 u, v\n",
    "    output: 나눈 결과값 벡터 w\n",
    "    \"\"\"\n",
    "    n = len(u)\n",
    "    w = []\n",
    "\n",
    "    for i in range(0, n):\n",
    "        val = u[i] / v[i]\n",
    "        w.append(val)\n",
    "    \n",
    "    return w"
   ]
  },
  {
   "cell_type": "code",
   "execution_count": 15,
   "metadata": {},
   "outputs": [
    {
     "data": {
      "text/plain": [
       "[3.5, 2.5, -3.0]"
      ]
     },
     "execution_count": 15,
     "metadata": {},
     "output_type": "execute_result"
    }
   ],
   "source": [
    "u = [7, 5, -9]\n",
    "v = [2, 2, 3]\n",
    "\n",
    "v_div(u, v)"
   ]
  },
  {
   "cell_type": "markdown",
   "metadata": {},
   "source": [
    "<br>"
   ]
  },
  {
   "cell_type": "markdown",
   "metadata": {},
   "source": [
    "### numpy"
   ]
  },
  {
   "cell_type": "code",
   "execution_count": 20,
   "metadata": {},
   "outputs": [
    {
     "name": "stdout",
     "output_type": "stream",
     "text": [
      "[ 3  6 12]\n"
     ]
    }
   ],
   "source": [
    "# 스칼라 곱\n",
    "a = 3\n",
    "u = np.array([1,2,4])\n",
    "w = a * u\n",
    "print(w)"
   ]
  },
  {
   "cell_type": "code",
   "execution_count": 22,
   "metadata": {},
   "outputs": [
    {
     "name": "stdout",
     "output_type": "stream",
     "text": [
      "[7 6 8]\n"
     ]
    }
   ],
   "source": [
    "# 원소 곱\n",
    "u = np.array([1,2,4])\n",
    "v = np.array([7,3,2])\n",
    "\n",
    "w = u * v\n",
    "print(w)"
   ]
  },
  {
   "cell_type": "code",
   "execution_count": 23,
   "metadata": {},
   "outputs": [
    {
     "name": "stdout",
     "output_type": "stream",
     "text": [
      "[3.  2.5 3. ]\n"
     ]
    }
   ],
   "source": [
    "# 나눗셈\n",
    "u = np.array([6,5,-9])\n",
    "v = np.array([2,2,-3])\n",
    "w = u / v\n",
    "print(w)"
   ]
  }
 ],
 "metadata": {
  "kernelspec": {
   "display_name": "project",
   "language": "python",
   "name": "python3"
  },
  "language_info": {
   "codemirror_mode": {
    "name": "ipython",
    "version": 3
   },
   "file_extension": ".py",
   "mimetype": "text/x-python",
   "name": "python",
   "nbconvert_exporter": "python",
   "pygments_lexer": "ipython3",
   "version": "3.10.13"
  }
 },
 "nbformat": 4,
 "nbformat_minor": 2
}
