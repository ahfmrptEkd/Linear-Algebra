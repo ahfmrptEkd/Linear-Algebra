{
 "cells": [
  {
   "cell_type": "markdown",
   "metadata": {},
   "source": [
    "# Scalar"
   ]
  },
  {
   "cell_type": "markdown",
   "metadata": {},
   "source": [
    "스칼라는 크기(Magnitude) 으로 나타낼 수 있는 물리량을 의미  \n",
    "\n",
    "스칼라는 벡터와 행렬을 구성하는 기본 원소를 의미하며, 하나의 숫자로 구성되어 있다.  \n",
    "\n",
    "기호로는 **영문 기울인 소문자** 로 표기한다."
   ]
  },
  {
   "cell_type": "markdown",
   "metadata": {},
   "source": [
    "## 정의 및 연산"
   ]
  },
  {
   "cell_type": "code",
   "execution_count": null,
   "metadata": {},
   "outputs": [],
   "source": [
    "# 스칼라 정의\n",
    "x = 2\n",
    "\n",
    "\n",
    "# 스칼라 덧셈\n",
    "x = 2\n",
    "y = 3\n",
    "z = x + y\n",
    "\n",
    "\n",
    "# 스칼라 뺄셈\n",
    "x = 4\n",
    "y = 3\n",
    "z = x - y \n",
    "\n",
    "\n",
    "# 스칼라 곱셈\n",
    "x = 5\n",
    "y = 3\n",
    "z = x * y\n",
    "\n",
    "\n",
    "# 스칼라 나눗셈\n",
    "x = 5\n",
    "y = 2\n",
    "z = x / y"
   ]
  }
 ],
 "metadata": {
  "language_info": {
   "name": "python"
  }
 },
 "nbformat": 4,
 "nbformat_minor": 2
}
