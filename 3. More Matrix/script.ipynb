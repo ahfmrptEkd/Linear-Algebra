{
 "cells": [
  {
   "cell_type": "code",
   "execution_count": 69,
   "metadata": {},
   "outputs": [],
   "source": [
    "import importlib\n",
    "import mm_func as f\n",
    "importlib.reload(f)\n",
    "\n",
    "import sys\n",
    "sys.path.append('../code')\n",
    "import m_func as f2\n",
    "\n",
    "import numpy as np"
   ]
  },
  {
   "cell_type": "markdown",
   "metadata": {},
   "source": [
    "# 다양한 행렬"
   ]
  },
  {
   "cell_type": "markdown",
   "metadata": {},
   "source": [
    "## 파이썬"
   ]
  },
  {
   "cell_type": "markdown",
   "metadata": {},
   "source": [
    "### transpose"
   ]
  },
  {
   "cell_type": "code",
   "execution_count": 14,
   "metadata": {},
   "outputs": [
    {
     "name": "stdout",
     "output_type": "stream",
     "text": [
      "[[1, 3, 6], [5, 4, 2]]\n"
     ]
    },
    {
     "data": {
      "text/plain": [
       "[[1, 3, 6], [5, 4, 2]]"
      ]
     },
     "execution_count": 14,
     "metadata": {},
     "output_type": "execute_result"
    }
   ],
   "source": [
    "# 전치행렬\n",
    "A = [[1, 5], [3, 4], [6, 2]]\n",
    "\n",
    "n = len(A)  # 3\n",
    "p = len(A[0])   #2\n",
    "\n",
    "At = []\n",
    "for i in range(0, p):\n",
    "    row = []\n",
    "    for j in range(0, n):\n",
    "        val = A[j][i]\n",
    "        row.append(val)\n",
    "    At.append(row)\n",
    "\n",
    "print(At)\n",
    "\n",
    "import mm_func as f\n",
    "f.transpose(A)"
   ]
  },
  {
   "cell_type": "markdown",
   "metadata": {},
   "source": [
    "### Symmetric"
   ]
  },
  {
   "cell_type": "code",
   "execution_count": 27,
   "metadata": {},
   "outputs": [
    {
     "name": "stdout",
     "output_type": "stream",
     "text": [
      "[[1, 0, 2], [0, 2, 1], [2, 1, 1]]\n",
      "True\n",
      "행렬 A의 2 제곱은 [[5, 2, 4], [2, 5, 3], [4, 3, 6]]\n",
      "행렬 A의 3 제곱은 [[13, 8, 16], [8, 13, 12], [16, 12, 17]]\n",
      "행렬 A의 4 제곱은 [[45, 32, 50], [32, 38, 41], [50, 41, 61]]\n",
      "행렬 A의 5 제곱은 [[145, 114, 172], [114, 117, 143], [172, 143, 202]]\n",
      "행렬 A의 6 제곱은 [[489, 400, 576], [400, 377, 488], [576, 488, 689]]\n",
      "행렬 A의 7 제곱은 [[1641, 1376, 1954], [1376, 1242, 1665], [1954, 1665, 2329]]\n",
      "행렬 A의 8 제곱은 [[5549, 4706, 6612], [4706, 4149, 5659], [6612, 5659, 7902]]\n",
      "행렬 A의 9 제곱은 [[18773, 16024, 22416], [16024, 13957, 19220], [22416, 19220, 26785]]\n",
      "행렬 A의 10 제곱은 [[63605, 54464, 75986], [54464, 47134, 65225], [75986, 65225, 90837]]\n",
      "[[10, 14, 3], [14, 21, 5], [3, 5, 2]]\n",
      "[[5, 2, 11], [2, 2, 5], [11, 5, 26]]\n"
     ]
    }
   ],
   "source": [
    "# 대칭행렬\n",
    "A = [[1,0,2], [0,2,1], [2,1,1]]\n",
    "At = f.transpose(A)\n",
    "print(At)\n",
    "\n",
    "print(A==At)    # 둘이 정말 같은 행렬임을 볼 수 있다.\n",
    "\n",
    "\n",
    "AA = A\n",
    "for i in range(0, 9):\n",
    "    AA = f2.matmul(AA, A)\n",
    "    print(\"행렬 A의\", i+2, \"제곱은\", AA)\n",
    "\n",
    "\n",
    "## AAt => 대칭행렬임을 보자.\n",
    "A = [[1,0,3], [2,1,4], [0,1,1]]\n",
    "At = f.transpose(A)\n",
    "\n",
    "print(f2.matmul(A, At))\n",
    "print(f2.matmul(At, A))"
   ]
  },
  {
   "cell_type": "markdown",
   "metadata": {},
   "source": [
    "### Diagonal"
   ]
  },
  {
   "cell_type": "code",
   "execution_count": 21,
   "metadata": {},
   "outputs": [
    {
     "name": "stdout",
     "output_type": "stream",
     "text": [
      "[[1, 0, 0], [0, 5, 0], [0, 0, 9]]\n",
      "[[1, 0, 0], [0, 5, 0], [0, 0, 9]]\n",
      "[1, 5, 9]\n",
      "[[1, 0, 0], [0, 9, 0], [0, 0, 5]]\n",
      "\n",
      "[[2, 2, 3], [8, 5, 6], [14, 8, 9]]\n",
      "[[2, 4, 6], [4, 5, 6], [7, 8, 9]]\n",
      "\n",
      "[[1, 6, 12], [4, 15, 24], [7, 24, 36]]\n",
      "[[1, 2, 3], [12, 15, 18], [28, 32, 36]]\n"
     ]
    }
   ],
   "source": [
    "# 대각 행렬\n",
    "A = [[1,2,3], [4,5,6], [7,8,9]]\n",
    "\n",
    "n = len(A)\n",
    "D = []\n",
    "\n",
    "for i in range(0, n):\n",
    "    row = []\n",
    "    for j in range(0, n):\n",
    "        if i == j:\n",
    "            row.append(A[i][j])\n",
    "        else:\n",
    "            row.append(0)\n",
    "    D.append(row)\n",
    "\n",
    "print(D)\n",
    "\n",
    "print(f.diag(A))    # 대각행렬 구하기\n",
    "print(f.diag_ele(A))# 대각원소 구하기\n",
    "\n",
    "a = [1, 9, 5]\n",
    "print(f.ele2diag(a))# 대각원소로 대각행렬 구하기\n",
    "print()\n",
    "\n",
    "\n",
    "# 일반행렬에 대각행렬을 곱했을 때\n",
    "A = [[1,2,3], [4,5,6], [7,8,9]]\n",
    "D = f.ele2diag([2,1,1])\n",
    "\n",
    "AD = f2.matmul(A,D)\n",
    "print(AD)\n",
    "\n",
    "DA = f2.matmul(D,A)\n",
    "print(DA)\n",
    "print()\n",
    "\n",
    "\n",
    "D = f.ele2diag([1,3,4])\n",
    "\n",
    "AD = f2.matmul(A,D)\n",
    "print(AD)\n",
    "\n",
    "DA = f2.matmul(D,A)\n",
    "print(DA)"
   ]
  },
  {
   "cell_type": "markdown",
   "metadata": {},
   "source": [
    "### Identity"
   ]
  },
  {
   "cell_type": "code",
   "execution_count": 34,
   "metadata": {},
   "outputs": [
    {
     "name": "stdout",
     "output_type": "stream",
     "text": [
      "\n",
      "[[1, 2, 3], [4, 5, 6], [7, 8, 9]]\n",
      "\n",
      "[[1, 2, 3], [4, 5, 6], [7, 8, 9]]\n",
      "\n"
     ]
    }
   ],
   "source": [
    "# 항등행렬\n",
    "f.identity(5)\n",
    "print()\n",
    "\n",
    "A = [[1,2,3],[4,5,6],[7,8,9]]\n",
    "I = f.identity(3)\n",
    "\n",
    "AI = f2.matmul(A,I)\n",
    "print(AI)\n",
    "print()\n",
    "\n",
    "IA = f2.matmul(I,A)\n",
    "print(IA)\n",
    "print()\n",
    "## 동일하다"
   ]
  },
  {
   "cell_type": "markdown",
   "metadata": {},
   "source": [
    "### Zero"
   ]
  },
  {
   "cell_type": "code",
   "execution_count": 42,
   "metadata": {},
   "outputs": [
    {
     "data": {
      "text/plain": [
       "[[0, 0], [0, 0], [0, 0]]"
      ]
     },
     "execution_count": 42,
     "metadata": {},
     "output_type": "execute_result"
    }
   ],
   "source": [
    "f.zero_mat(3, 2)\n"
   ]
  },
  {
   "cell_type": "markdown",
   "metadata": {},
   "source": [
    "### Triangular"
   ]
  },
  {
   "cell_type": "code",
   "execution_count": 45,
   "metadata": {},
   "outputs": [
    {
     "name": "stdout",
     "output_type": "stream",
     "text": [
      "[[1, 2, 3], [0, 5, 6], [0, 0, 9]]\n",
      "[[1, 0, 0], [4, 5, 0], [7, 8, 9]]\n"
     ]
    }
   ],
   "source": [
    "A = [[1,2,3],[4,5,6],[7,8,9]]\n",
    "\n",
    "print(f.u_tri(A))\n",
    "print(f.l_tri(A))"
   ]
  },
  {
   "cell_type": "markdown",
   "metadata": {},
   "source": [
    "### Toeplitz"
   ]
  },
  {
   "cell_type": "code",
   "execution_count": 51,
   "metadata": {},
   "outputs": [
    {
     "data": {
      "text/plain": [
       "[[1, 3, 5, 7, 9], [0, 1, 3, 5, 7], [-2, 0, 1, 3, 5], [-4, -2, 0, 1, 3]]"
      ]
     },
     "execution_count": 51,
     "metadata": {},
     "output_type": "execute_result"
    }
   ],
   "source": [
    "a = [1, 0, -2, -4]\n",
    "b = [1, 3, 5, 7, 9]\n",
    "f.toeplitz(a,b)"
   ]
  },
  {
   "cell_type": "markdown",
   "metadata": {},
   "source": [
    "### Bidiagonal"
   ]
  },
  {
   "cell_type": "code",
   "execution_count": 55,
   "metadata": {},
   "outputs": [
    {
     "name": "stdout",
     "output_type": "stream",
     "text": [
      "[[1, 2, 0, 0], [0, 3, 4, 0], [0, 0, 7, 9], [0, 0, 0, 3]]\n"
     ]
    }
   ],
   "source": [
    "A = [[1,2,1,3],[5,3,4,1],[2,1,7,9],[2,8,1,3]]\n",
    "print(f.u_bidiag(A))    # upper bidiagonal matrix"
   ]
  },
  {
   "cell_type": "code",
   "execution_count": 56,
   "metadata": {},
   "outputs": [
    {
     "name": "stdout",
     "output_type": "stream",
     "text": [
      "[[1, 0, 0, 0], [5, 3, 0, 0], [0, 1, 7, 0], [0, 0, 1, 3]]\n"
     ]
    }
   ],
   "source": [
    "A = [[1,2,1,3],[5,3,4,1],[2,1,7,9],[2,8,1,3]]\n",
    "print(f.l_bidiag(A))    # upper bidiagonal matrix"
   ]
  },
  {
   "cell_type": "markdown",
   "metadata": {},
   "source": [
    "### Householder "
   ]
  },
  {
   "cell_type": "code",
   "execution_count": 70,
   "metadata": {},
   "outputs": [
    {
     "data": {
      "text/plain": [
       "[[0.8571428571428572, 0.0, -0.2857142857142857, -0.42857142857142855],\n",
       " [0.0, 1.0, 0.0, 0.0],\n",
       " [-0.2857142857142857, 0.0, 0.4285714285714286, -0.8571428571428571],\n",
       " [-0.42857142857142855, 0.0, -0.8571428571428571, -0.2857142857142856]]"
      ]
     },
     "execution_count": 70,
     "metadata": {},
     "output_type": "execute_result"
    }
   ],
   "source": [
    "a = [1, 0, 2, 3]\n",
    "f.householder(a)"
   ]
  },
  {
   "cell_type": "markdown",
   "metadata": {},
   "source": [
    "## Numpy"
   ]
  },
  {
   "cell_type": "markdown",
   "metadata": {},
   "source": [
    "### transpose"
   ]
  },
  {
   "cell_type": "code",
   "execution_count": 22,
   "metadata": {},
   "outputs": [
    {
     "name": "stdout",
     "output_type": "stream",
     "text": [
      "[[1 3 6]\n",
      " [5 4 2]]\n"
     ]
    }
   ],
   "source": [
    "# 전치 행렬\n",
    "import numpy as np\n",
    "\n",
    "A = np.array([[1,5], [3,4], [6,2]])\n",
    "At = np.transpose(A)\n",
    "print(At)"
   ]
  },
  {
   "cell_type": "markdown",
   "metadata": {},
   "source": [
    "### Symmetric"
   ]
  },
  {
   "cell_type": "code",
   "execution_count": 32,
   "metadata": {},
   "outputs": [
    {
     "name": "stdout",
     "output_type": "stream",
     "text": [
      "[[1 0 2]\n",
      " [0 2 1]\n",
      " [2 1 1]]\n",
      "[[1 0 2]\n",
      " [0 2 1]\n",
      " [2 1 1]]\n",
      "행렬 A의 2 제곱은\n",
      "[[5 2 4]\n",
      " [2 5 3]\n",
      " [4 3 6]]\n",
      "==========\n",
      "행렬 A의 3 제곱은\n",
      "[[13  8 16]\n",
      " [ 8 13 12]\n",
      " [16 12 17]]\n",
      "==========\n",
      "행렬 A의 4 제곱은\n",
      "[[45 32 50]\n",
      " [32 38 41]\n",
      " [50 41 61]]\n",
      "==========\n",
      "행렬 A의 5 제곱은\n",
      "[[145 114 172]\n",
      " [114 117 143]\n",
      " [172 143 202]]\n",
      "==========\n",
      "행렬 A의 6 제곱은\n",
      "[[489 400 576]\n",
      " [400 377 488]\n",
      " [576 488 689]]\n",
      "==========\n",
      "행렬 A의 7 제곱은\n",
      "[[1641 1376 1954]\n",
      " [1376 1242 1665]\n",
      " [1954 1665 2329]]\n",
      "==========\n",
      "행렬 A의 8 제곱은\n",
      "[[5549 4706 6612]\n",
      " [4706 4149 5659]\n",
      " [6612 5659 7902]]\n",
      "==========\n",
      "행렬 A의 9 제곱은\n",
      "[[18773 16024 22416]\n",
      " [16024 13957 19220]\n",
      " [22416 19220 26785]]\n",
      "==========\n",
      "행렬 A의 10 제곱은\n",
      "[[63605 54464 75986]\n",
      " [54464 47134 65225]\n",
      " [75986 65225 90837]]\n",
      "==========\n",
      "[[10 14  3]\n",
      " [14 21  5]\n",
      " [ 3  5  2]]\n",
      "[[ 5  2 11]\n",
      " [ 2  2  5]\n",
      " [11  5 26]]\n"
     ]
    }
   ],
   "source": [
    "## 대칭 행렬\n",
    "A = np.array([[1,0,2], [0,2,1], [2,1,1]])\n",
    "print(A)\n",
    "\n",
    "At = np.transpose(A)\n",
    "print(At)\n",
    "\n",
    "A == At\n",
    "\n",
    "AA = A\n",
    "for i in range(0, 9):\n",
    "    AA = np.matmul(AA, A)\n",
    "    print(\"행렬 A의\", i+2, \"제곱은\")\n",
    "    print(AA)\n",
    "    print(\"=\"*10)\n",
    "\n",
    "# 역행렬과의 곱이 대칭행렬?\n",
    "A = np.array([[1,0,3], [2,1,4], [0,1,1]])\n",
    "At = np.transpose(A)\n",
    "print(np.matmul(A, At))\n",
    "print(np.matmul(At, A))"
   ]
  },
  {
   "cell_type": "markdown",
   "metadata": {},
   "source": [
    "### Diagonal"
   ]
  },
  {
   "cell_type": "code",
   "execution_count": 30,
   "metadata": {},
   "outputs": [
    {
     "name": "stdout",
     "output_type": "stream",
     "text": [
      "[1 5 9]\n",
      "[[1 0 0]\n",
      " [0 5 0]\n",
      " [0 0 9]]\n",
      "\n",
      "[[1 0 0]\n",
      " [0 3 0]\n",
      " [0 0 4]]\n",
      "\n",
      "[[ 1  6 12]\n",
      " [ 4 15 24]\n",
      " [ 7 24 36]]\n",
      "[[ 1  2  3]\n",
      " [12 15 18]\n",
      " [28 32 36]]\n"
     ]
    }
   ],
   "source": [
    "## 대각행렬\n",
    "A = np.array([[1,2,3],[4,5,6],[7,8,9]])\n",
    "D = np.diag(A)\n",
    "print(D)\n",
    "print(np.diag(D))   # 구한 대각원소를 다시 대각행렬함수에 넣으면, 행렬을 구할 수 있다.\n",
    "print()\n",
    "\n",
    "D = np.diag([1,3,4])\n",
    "print(D)\n",
    "print()\n",
    "\n",
    "AD = np.matmul(A,D)\n",
    "print(AD)\n",
    "DA = np.matmul(D,A)\n",
    "print(DA)"
   ]
  },
  {
   "cell_type": "markdown",
   "metadata": {},
   "source": [
    "### Identity"
   ]
  },
  {
   "cell_type": "code",
   "execution_count": 38,
   "metadata": {},
   "outputs": [
    {
     "name": "stdout",
     "output_type": "stream",
     "text": [
      "[[1. 0. 0.]\n",
      " [0. 1. 0.]\n",
      " [0. 0. 1.]]\n"
     ]
    }
   ],
   "source": [
    "I = np.identity(3)\n",
    "print(I)"
   ]
  },
  {
   "cell_type": "code",
   "execution_count": 39,
   "metadata": {},
   "outputs": [
    {
     "name": "stdout",
     "output_type": "stream",
     "text": [
      "[[1. 2. 3.]\n",
      " [4. 5. 6.]\n",
      " [7. 8. 9.]]\n"
     ]
    }
   ],
   "source": [
    "A = [[1,2,3],[4,5,6],[7,8,9]]\n",
    "AI = np.matmul(A,I)\n",
    "print(AI)"
   ]
  },
  {
   "cell_type": "code",
   "execution_count": 40,
   "metadata": {},
   "outputs": [
    {
     "name": "stdout",
     "output_type": "stream",
     "text": [
      "[[1. 2. 3.]\n",
      " [4. 5. 6.]\n",
      " [7. 8. 9.]]\n"
     ]
    }
   ],
   "source": [
    "IA = np.matmul(I,A)\n",
    "print(IA)"
   ]
  },
  {
   "cell_type": "markdown",
   "metadata": {},
   "source": [
    "### Zero"
   ]
  },
  {
   "cell_type": "code",
   "execution_count": 43,
   "metadata": {},
   "outputs": [
    {
     "name": "stdout",
     "output_type": "stream",
     "text": [
      "[[0. 0.]\n",
      " [0. 0.]\n",
      " [0. 0.]]\n"
     ]
    }
   ],
   "source": [
    "Z = np.zeros((3,2))\n",
    "print(Z)"
   ]
  },
  {
   "cell_type": "markdown",
   "metadata": {},
   "source": [
    "### Triangular"
   ]
  },
  {
   "cell_type": "code",
   "execution_count": 47,
   "metadata": {},
   "outputs": [
    {
     "name": "stdout",
     "output_type": "stream",
     "text": [
      "[[1 2 3]\n",
      " [0 5 6]\n",
      " [0 0 9]]\n"
     ]
    }
   ],
   "source": [
    "A = np.array([[1,2,3],[4,5,6],[7,8,9]])\n",
    "AU = np.triu(A)\n",
    "print(AU)"
   ]
  },
  {
   "cell_type": "code",
   "execution_count": 48,
   "metadata": {},
   "outputs": [
    {
     "name": "stdout",
     "output_type": "stream",
     "text": [
      "[[1 0 0]\n",
      " [4 5 0]\n",
      " [7 8 9]]\n"
     ]
    }
   ],
   "source": [
    "AL = np.tril(A)\n",
    "print(AL)"
   ]
  },
  {
   "cell_type": "markdown",
   "metadata": {},
   "source": [
    "### toeplitz"
   ]
  },
  {
   "cell_type": "code",
   "execution_count": 53,
   "metadata": {},
   "outputs": [
    {
     "name": "stdout",
     "output_type": "stream",
     "text": [
      "[[ 1  3  5  7  9]\n",
      " [ 0  1  3  5  7]\n",
      " [-2  0  1  3  5]\n",
      " [-4 -2  0  1  3]]\n"
     ]
    }
   ],
   "source": [
    "from scipy.linalg import toeplitz    # numpy는 라이브러리 함수가 없음\n",
    "\n",
    "A = toeplitz([1, 0, -2, -4], [1, 3, 5, 7, 9])\n",
    "print(A)"
   ]
  },
  {
   "cell_type": "markdown",
   "metadata": {},
   "source": [
    "### Bidigonal"
   ]
  },
  {
   "cell_type": "code",
   "execution_count": 57,
   "metadata": {},
   "outputs": [
    {
     "name": "stdout",
     "output_type": "stream",
     "text": [
      "[[1 2 1 3]\n",
      " [5 3 4 1]\n",
      " [2 1 7 9]\n",
      " [2 8 1 3]]\n"
     ]
    }
   ],
   "source": [
    "A = np.array([[1,2,1,3],[5,3,4,1],[2,1,7,9],[2,8,1,3]])\n",
    "\n",
    "print(A)"
   ]
  },
  {
   "cell_type": "code",
   "execution_count": 61,
   "metadata": {},
   "outputs": [
    {
     "name": "stdout",
     "output_type": "stream",
     "text": [
      "[1 3 7 3]\n"
     ]
    },
    {
     "data": {
      "text/plain": [
       "array([[1, 0, 0, 0],\n",
       "       [0, 3, 0, 0],\n",
       "       [0, 0, 7, 0],\n",
       "       [0, 0, 0, 3]])"
      ]
     },
     "execution_count": 61,
     "metadata": {},
     "output_type": "execute_result"
    }
   ],
   "source": [
    "# upper diagonal matrix\n",
    "diag_ele = np.diag(A)\n",
    "print(diag_ele)\n",
    "np.diag(diag_ele)"
   ]
  },
  {
   "cell_type": "code",
   "execution_count": 64,
   "metadata": {},
   "outputs": [
    {
     "name": "stdout",
     "output_type": "stream",
     "text": [
      "[2 4 9]\n"
     ]
    },
    {
     "data": {
      "text/plain": [
       "array([[0, 2, 0, 0],\n",
       "       [0, 0, 4, 0],\n",
       "       [0, 0, 0, 9],\n",
       "       [0, 0, 0, 0]])"
      ]
     },
     "execution_count": 64,
     "metadata": {},
     "output_type": "execute_result"
    }
   ],
   "source": [
    "u_diag_ele = np.diag(A, k=1)    # k 는 원소 1칸위에 있는 원소를 의미\n",
    "print(u_diag_ele)\n",
    "np.diag(u_diag_ele, k=1)    # k 1칸 위에 위치 시킨 행렬을 구할 수 있음을 의미"
   ]
  },
  {
   "cell_type": "code",
   "execution_count": 63,
   "metadata": {},
   "outputs": [
    {
     "name": "stdout",
     "output_type": "stream",
     "text": [
      "[[1 2 0 0]\n",
      " [0 3 4 0]\n",
      " [0 0 7 9]\n",
      " [0 0 0 3]]\n"
     ]
    }
   ],
   "source": [
    "u_diag = np.diag(diag_ele) + np.diag(u_diag_ele, k=1)\n",
    "print(u_diag)"
   ]
  },
  {
   "cell_type": "code",
   "execution_count": 66,
   "metadata": {},
   "outputs": [
    {
     "name": "stdout",
     "output_type": "stream",
     "text": [
      "[1 3 7 3]\n"
     ]
    },
    {
     "data": {
      "text/plain": [
       "array([[1, 0, 0, 0],\n",
       "       [0, 3, 0, 0],\n",
       "       [0, 0, 7, 0],\n",
       "       [0, 0, 0, 3]])"
      ]
     },
     "execution_count": 66,
     "metadata": {},
     "output_type": "execute_result"
    }
   ],
   "source": [
    "# lower diagonal matrix\n",
    "A = np.array([[1,2,1,3],[5,3,4,1],[2,1,7,9],[2,8,1,3]])\n",
    "diag_ele = np.diag(A)\n",
    "print(diag_ele)\n",
    "\n",
    "np.diag(diag_ele)"
   ]
  },
  {
   "cell_type": "code",
   "execution_count": 67,
   "metadata": {},
   "outputs": [
    {
     "name": "stdout",
     "output_type": "stream",
     "text": [
      "[5 1 1]\n"
     ]
    },
    {
     "data": {
      "text/plain": [
       "array([[0, 0, 0, 0],\n",
       "       [5, 0, 0, 0],\n",
       "       [0, 1, 0, 0],\n",
       "       [0, 0, 1, 0]])"
      ]
     },
     "execution_count": 67,
     "metadata": {},
     "output_type": "execute_result"
    }
   ],
   "source": [
    "l_diag_ele = np.diag(A, k=-1)\n",
    "print(l_diag_ele)\n",
    "\n",
    "np.diag(l_diag_ele, k=-1)"
   ]
  },
  {
   "cell_type": "code",
   "execution_count": 68,
   "metadata": {},
   "outputs": [
    {
     "name": "stdout",
     "output_type": "stream",
     "text": [
      "[[1 0 0 0]\n",
      " [5 3 0 0]\n",
      " [0 1 7 0]\n",
      " [0 0 1 3]]\n"
     ]
    }
   ],
   "source": [
    "l_diag = np.diag(diag_ele) + np.diag(l_diag_ele, k=-1)\n",
    "print(l_diag)"
   ]
  },
  {
   "cell_type": "markdown",
   "metadata": {},
   "source": [
    "### Householder"
   ]
  },
  {
   "cell_type": "code",
   "execution_count": 71,
   "metadata": {},
   "outputs": [
    {
     "name": "stdout",
     "output_type": "stream",
     "text": [
      "[[ 0.85714286  0.         -0.28571429 -0.42857143]\n",
      " [ 0.          1.          0.          0.        ]\n",
      " [-0.28571429  0.          0.42857143 -0.85714286]\n",
      " [-0.42857143  0.         -0.85714286 -0.28571429]]\n"
     ]
    }
   ],
   "source": [
    "v = np.array([1, 0, 2, 3])\n",
    "n = len(a)\n",
    "outer_mat = np.outer(v, v)\n",
    "inner_val = np.inner(v, v)\n",
    "I = np.identity(n)\n",
    "\n",
    "H = I - (2/inner_val) * outer_mat\n",
    "print(H)"
   ]
  }
 ],
 "metadata": {
  "kernelspec": {
   "display_name": "project",
   "language": "python",
   "name": "python3"
  },
  "language_info": {
   "codemirror_mode": {
    "name": "ipython",
    "version": 3
   },
   "file_extension": ".py",
   "mimetype": "text/x-python",
   "name": "python",
   "nbconvert_exporter": "python",
   "pygments_lexer": "ipython3",
   "version": "3.10.13"
  }
 },
 "nbformat": 4,
 "nbformat_minor": 2
}
